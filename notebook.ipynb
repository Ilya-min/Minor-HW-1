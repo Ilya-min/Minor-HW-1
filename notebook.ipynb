{
  "nbformat": 4,
  "nbformat_minor": 0,
  "metadata": {
    "colab": {
      "provenance": []
    },
    "kernelspec": {
      "name": "python3",
      "display_name": "Python 3"
    },
    "language_info": {
      "name": "python"
    }
  },
  "cells": [
    {
      "cell_type": "markdown",
      "source": [
        "# Загрузка и предобработка данных\n",
        "\n"
      ],
      "metadata": {
        "id": "HIPpUqddQMbf"
      }
    },
    {
      "cell_type": "code",
      "source": [
        "import pandas as pd\n",
        "import numpy as np\n",
        "import matplotlib.pyplot as plt\n",
        "import seaborn as sns\n",
        "from scipy.stats import shapiro, ttest_ind, mannwhitneyu\n",
        "from statsmodels.stats.diagnostic import lilliefors"
      ],
      "metadata": {
        "id": "TUsxinydQQr8"
      },
      "execution_count": 167,
      "outputs": []
    },
    {
      "cell_type": "code",
      "source": [
        "# определю функцию для красоты вывода :)\n",
        "def print_bold(content : str):\n",
        "    print(f\"\\033[1m {content} \\033[0m\")"
      ],
      "metadata": {
        "id": "41x60eM2lsOQ"
      },
      "execution_count": 168,
      "outputs": []
    },
    {
      "cell_type": "code",
      "source": [
        "df = pd.read_csv('data.csv')\n",
        "df.columns = [\"patient\", \"pressure\", \"resistance\", \"drug\"]\n",
        "print_bold(\"Data sample:\")\n",
        "df.sample(n=5, random_state=7)"
      ],
      "metadata": {
        "colab": {
          "base_uri": "https://localhost:8080/",
          "height": 223
        },
        "id": "oevb81mqQoyt",
        "outputId": "5ffce778-6213-4a23-b3c2-aefa3fb22774"
      },
      "execution_count": 169,
      "outputs": [
        {
          "output_type": "stream",
          "name": "stdout",
          "text": [
            "\u001b[1m Data sample: \u001b[0m\n"
          ]
        },
        {
          "output_type": "execute_result",
          "data": {
            "text/plain": [
              "     patient  pressure  resistance     drug\n",
              "80        81        68        2300  Галотан\n",
              "129      130       100        2700   Морфин\n",
              "3          4        86        2200  Галотан\n",
              "205      206        89        2400   Морфин\n",
              "148      149       102        2900   Морфин"
            ],
            "text/html": [
              "\n",
              "  <div id=\"df-8e7674bf-8d06-4e89-8011-38891e6cbd1c\" class=\"colab-df-container\">\n",
              "    <div>\n",
              "<style scoped>\n",
              "    .dataframe tbody tr th:only-of-type {\n",
              "        vertical-align: middle;\n",
              "    }\n",
              "\n",
              "    .dataframe tbody tr th {\n",
              "        vertical-align: top;\n",
              "    }\n",
              "\n",
              "    .dataframe thead th {\n",
              "        text-align: right;\n",
              "    }\n",
              "</style>\n",
              "<table border=\"1\" class=\"dataframe\">\n",
              "  <thead>\n",
              "    <tr style=\"text-align: right;\">\n",
              "      <th></th>\n",
              "      <th>patient</th>\n",
              "      <th>pressure</th>\n",
              "      <th>resistance</th>\n",
              "      <th>drug</th>\n",
              "    </tr>\n",
              "  </thead>\n",
              "  <tbody>\n",
              "    <tr>\n",
              "      <th>80</th>\n",
              "      <td>81</td>\n",
              "      <td>68</td>\n",
              "      <td>2300</td>\n",
              "      <td>Галотан</td>\n",
              "    </tr>\n",
              "    <tr>\n",
              "      <th>129</th>\n",
              "      <td>130</td>\n",
              "      <td>100</td>\n",
              "      <td>2700</td>\n",
              "      <td>Морфин</td>\n",
              "    </tr>\n",
              "    <tr>\n",
              "      <th>3</th>\n",
              "      <td>4</td>\n",
              "      <td>86</td>\n",
              "      <td>2200</td>\n",
              "      <td>Галотан</td>\n",
              "    </tr>\n",
              "    <tr>\n",
              "      <th>205</th>\n",
              "      <td>206</td>\n",
              "      <td>89</td>\n",
              "      <td>2400</td>\n",
              "      <td>Морфин</td>\n",
              "    </tr>\n",
              "    <tr>\n",
              "      <th>148</th>\n",
              "      <td>149</td>\n",
              "      <td>102</td>\n",
              "      <td>2900</td>\n",
              "      <td>Морфин</td>\n",
              "    </tr>\n",
              "  </tbody>\n",
              "</table>\n",
              "</div>\n",
              "    <div class=\"colab-df-buttons\">\n",
              "\n",
              "  <div class=\"colab-df-container\">\n",
              "    <button class=\"colab-df-convert\" onclick=\"convertToInteractive('df-8e7674bf-8d06-4e89-8011-38891e6cbd1c')\"\n",
              "            title=\"Convert this dataframe to an interactive table.\"\n",
              "            style=\"display:none;\">\n",
              "\n",
              "  <svg xmlns=\"http://www.w3.org/2000/svg\" height=\"24px\" viewBox=\"0 -960 960 960\">\n",
              "    <path d=\"M120-120v-720h720v720H120Zm60-500h600v-160H180v160Zm220 220h160v-160H400v160Zm0 220h160v-160H400v160ZM180-400h160v-160H180v160Zm440 0h160v-160H620v160ZM180-180h160v-160H180v160Zm440 0h160v-160H620v160Z\"/>\n",
              "  </svg>\n",
              "    </button>\n",
              "\n",
              "  <style>\n",
              "    .colab-df-container {\n",
              "      display:flex;\n",
              "      gap: 12px;\n",
              "    }\n",
              "\n",
              "    .colab-df-convert {\n",
              "      background-color: #E8F0FE;\n",
              "      border: none;\n",
              "      border-radius: 50%;\n",
              "      cursor: pointer;\n",
              "      display: none;\n",
              "      fill: #1967D2;\n",
              "      height: 32px;\n",
              "      padding: 0 0 0 0;\n",
              "      width: 32px;\n",
              "    }\n",
              "\n",
              "    .colab-df-convert:hover {\n",
              "      background-color: #E2EBFA;\n",
              "      box-shadow: 0px 1px 2px rgba(60, 64, 67, 0.3), 0px 1px 3px 1px rgba(60, 64, 67, 0.15);\n",
              "      fill: #174EA6;\n",
              "    }\n",
              "\n",
              "    .colab-df-buttons div {\n",
              "      margin-bottom: 4px;\n",
              "    }\n",
              "\n",
              "    [theme=dark] .colab-df-convert {\n",
              "      background-color: #3B4455;\n",
              "      fill: #D2E3FC;\n",
              "    }\n",
              "\n",
              "    [theme=dark] .colab-df-convert:hover {\n",
              "      background-color: #434B5C;\n",
              "      box-shadow: 0px 1px 3px 1px rgba(0, 0, 0, 0.15);\n",
              "      filter: drop-shadow(0px 1px 2px rgba(0, 0, 0, 0.3));\n",
              "      fill: #FFFFFF;\n",
              "    }\n",
              "  </style>\n",
              "\n",
              "    <script>\n",
              "      const buttonEl =\n",
              "        document.querySelector('#df-8e7674bf-8d06-4e89-8011-38891e6cbd1c button.colab-df-convert');\n",
              "      buttonEl.style.display =\n",
              "        google.colab.kernel.accessAllowed ? 'block' : 'none';\n",
              "\n",
              "      async function convertToInteractive(key) {\n",
              "        const element = document.querySelector('#df-8e7674bf-8d06-4e89-8011-38891e6cbd1c');\n",
              "        const dataTable =\n",
              "          await google.colab.kernel.invokeFunction('convertToInteractive',\n",
              "                                                    [key], {});\n",
              "        if (!dataTable) return;\n",
              "\n",
              "        const docLinkHtml = 'Like what you see? Visit the ' +\n",
              "          '<a target=\"_blank\" href=https://colab.research.google.com/notebooks/data_table.ipynb>data table notebook</a>'\n",
              "          + ' to learn more about interactive tables.';\n",
              "        element.innerHTML = '';\n",
              "        dataTable['output_type'] = 'display_data';\n",
              "        await google.colab.output.renderOutput(dataTable, element);\n",
              "        const docLink = document.createElement('div');\n",
              "        docLink.innerHTML = docLinkHtml;\n",
              "        element.appendChild(docLink);\n",
              "      }\n",
              "    </script>\n",
              "  </div>\n",
              "\n",
              "\n",
              "<div id=\"df-b4ea2ad0-91da-4cb4-90b5-ddba4b0ccbd0\">\n",
              "  <button class=\"colab-df-quickchart\" onclick=\"quickchart('df-b4ea2ad0-91da-4cb4-90b5-ddba4b0ccbd0')\"\n",
              "            title=\"Suggest charts\"\n",
              "            style=\"display:none;\">\n",
              "\n",
              "<svg xmlns=\"http://www.w3.org/2000/svg\" height=\"24px\"viewBox=\"0 0 24 24\"\n",
              "     width=\"24px\">\n",
              "    <g>\n",
              "        <path d=\"M19 3H5c-1.1 0-2 .9-2 2v14c0 1.1.9 2 2 2h14c1.1 0 2-.9 2-2V5c0-1.1-.9-2-2-2zM9 17H7v-7h2v7zm4 0h-2V7h2v10zm4 0h-2v-4h2v4z\"/>\n",
              "    </g>\n",
              "</svg>\n",
              "  </button>\n",
              "\n",
              "<style>\n",
              "  .colab-df-quickchart {\n",
              "      --bg-color: #E8F0FE;\n",
              "      --fill-color: #1967D2;\n",
              "      --hover-bg-color: #E2EBFA;\n",
              "      --hover-fill-color: #174EA6;\n",
              "      --disabled-fill-color: #AAA;\n",
              "      --disabled-bg-color: #DDD;\n",
              "  }\n",
              "\n",
              "  [theme=dark] .colab-df-quickchart {\n",
              "      --bg-color: #3B4455;\n",
              "      --fill-color: #D2E3FC;\n",
              "      --hover-bg-color: #434B5C;\n",
              "      --hover-fill-color: #FFFFFF;\n",
              "      --disabled-bg-color: #3B4455;\n",
              "      --disabled-fill-color: #666;\n",
              "  }\n",
              "\n",
              "  .colab-df-quickchart {\n",
              "    background-color: var(--bg-color);\n",
              "    border: none;\n",
              "    border-radius: 50%;\n",
              "    cursor: pointer;\n",
              "    display: none;\n",
              "    fill: var(--fill-color);\n",
              "    height: 32px;\n",
              "    padding: 0;\n",
              "    width: 32px;\n",
              "  }\n",
              "\n",
              "  .colab-df-quickchart:hover {\n",
              "    background-color: var(--hover-bg-color);\n",
              "    box-shadow: 0 1px 2px rgba(60, 64, 67, 0.3), 0 1px 3px 1px rgba(60, 64, 67, 0.15);\n",
              "    fill: var(--button-hover-fill-color);\n",
              "  }\n",
              "\n",
              "  .colab-df-quickchart-complete:disabled,\n",
              "  .colab-df-quickchart-complete:disabled:hover {\n",
              "    background-color: var(--disabled-bg-color);\n",
              "    fill: var(--disabled-fill-color);\n",
              "    box-shadow: none;\n",
              "  }\n",
              "\n",
              "  .colab-df-spinner {\n",
              "    border: 2px solid var(--fill-color);\n",
              "    border-color: transparent;\n",
              "    border-bottom-color: var(--fill-color);\n",
              "    animation:\n",
              "      spin 1s steps(1) infinite;\n",
              "  }\n",
              "\n",
              "  @keyframes spin {\n",
              "    0% {\n",
              "      border-color: transparent;\n",
              "      border-bottom-color: var(--fill-color);\n",
              "      border-left-color: var(--fill-color);\n",
              "    }\n",
              "    20% {\n",
              "      border-color: transparent;\n",
              "      border-left-color: var(--fill-color);\n",
              "      border-top-color: var(--fill-color);\n",
              "    }\n",
              "    30% {\n",
              "      border-color: transparent;\n",
              "      border-left-color: var(--fill-color);\n",
              "      border-top-color: var(--fill-color);\n",
              "      border-right-color: var(--fill-color);\n",
              "    }\n",
              "    40% {\n",
              "      border-color: transparent;\n",
              "      border-right-color: var(--fill-color);\n",
              "      border-top-color: var(--fill-color);\n",
              "    }\n",
              "    60% {\n",
              "      border-color: transparent;\n",
              "      border-right-color: var(--fill-color);\n",
              "    }\n",
              "    80% {\n",
              "      border-color: transparent;\n",
              "      border-right-color: var(--fill-color);\n",
              "      border-bottom-color: var(--fill-color);\n",
              "    }\n",
              "    90% {\n",
              "      border-color: transparent;\n",
              "      border-bottom-color: var(--fill-color);\n",
              "    }\n",
              "  }\n",
              "</style>\n",
              "\n",
              "  <script>\n",
              "    async function quickchart(key) {\n",
              "      const quickchartButtonEl =\n",
              "        document.querySelector('#' + key + ' button');\n",
              "      quickchartButtonEl.disabled = true;  // To prevent multiple clicks.\n",
              "      quickchartButtonEl.classList.add('colab-df-spinner');\n",
              "      try {\n",
              "        const charts = await google.colab.kernel.invokeFunction(\n",
              "            'suggestCharts', [key], {});\n",
              "      } catch (error) {\n",
              "        console.error('Error during call to suggestCharts:', error);\n",
              "      }\n",
              "      quickchartButtonEl.classList.remove('colab-df-spinner');\n",
              "      quickchartButtonEl.classList.add('colab-df-quickchart-complete');\n",
              "    }\n",
              "    (() => {\n",
              "      let quickchartButtonEl =\n",
              "        document.querySelector('#df-b4ea2ad0-91da-4cb4-90b5-ddba4b0ccbd0 button');\n",
              "      quickchartButtonEl.style.display =\n",
              "        google.colab.kernel.accessAllowed ? 'block' : 'none';\n",
              "    })();\n",
              "  </script>\n",
              "</div>\n",
              "    </div>\n",
              "  </div>\n"
            ],
            "application/vnd.google.colaboratory.intrinsic+json": {
              "type": "dataframe",
              "summary": "{\n  \"name\": \"df\",\n  \"rows\": 5,\n  \"fields\": [\n    {\n      \"column\": \"patient\",\n      \"properties\": {\n        \"dtype\": \"number\",\n        \"std\": 76,\n        \"min\": 4,\n        \"max\": 206,\n        \"num_unique_values\": 5,\n        \"samples\": [\n          130,\n          149,\n          4\n        ],\n        \"semantic_type\": \"\",\n        \"description\": \"\"\n      }\n    },\n    {\n      \"column\": \"pressure\",\n      \"properties\": {\n        \"dtype\": \"number\",\n        \"std\": 13,\n        \"min\": 68,\n        \"max\": 102,\n        \"num_unique_values\": 5,\n        \"samples\": [\n          100,\n          102,\n          86\n        ],\n        \"semantic_type\": \"\",\n        \"description\": \"\"\n      }\n    },\n    {\n      \"column\": \"resistance\",\n      \"properties\": {\n        \"dtype\": \"number\",\n        \"std\": 291,\n        \"min\": 2200,\n        \"max\": 2900,\n        \"num_unique_values\": 5,\n        \"samples\": [\n          2700,\n          2900,\n          2200\n        ],\n        \"semantic_type\": \"\",\n        \"description\": \"\"\n      }\n    },\n    {\n      \"column\": \"drug\",\n      \"properties\": {\n        \"dtype\": \"category\",\n        \"num_unique_values\": 2,\n        \"samples\": [\n          \"\\u041c\\u043e\\u0440\\u0444\\u0438\\u043d\",\n          \"\\u0413\\u0430\\u043b\\u043e\\u0442\\u0430\\u043d\"\n        ],\n        \"semantic_type\": \"\",\n        \"description\": \"\"\n      }\n    }\n  ]\n}"
            }
          },
          "metadata": {},
          "execution_count": 169
        }
      ]
    },
    {
      "cell_type": "code",
      "source": [
        "print_bold(\"Data types:\")\n",
        "df.dtypes"
      ],
      "metadata": {
        "colab": {
          "base_uri": "https://localhost:8080/",
          "height": 227
        },
        "id": "Aq6_iU9XjnO5",
        "outputId": "8d330c9b-0908-43d7-8444-ba28dc086676"
      },
      "execution_count": 170,
      "outputs": [
        {
          "output_type": "stream",
          "name": "stdout",
          "text": [
            "\u001b[1m Data types: \u001b[0m\n"
          ]
        },
        {
          "output_type": "execute_result",
          "data": {
            "text/plain": [
              "patient        int64\n",
              "pressure       int64\n",
              "resistance     int64\n",
              "drug          object\n",
              "dtype: object"
            ],
            "text/html": [
              "<div>\n",
              "<style scoped>\n",
              "    .dataframe tbody tr th:only-of-type {\n",
              "        vertical-align: middle;\n",
              "    }\n",
              "\n",
              "    .dataframe tbody tr th {\n",
              "        vertical-align: top;\n",
              "    }\n",
              "\n",
              "    .dataframe thead th {\n",
              "        text-align: right;\n",
              "    }\n",
              "</style>\n",
              "<table border=\"1\" class=\"dataframe\">\n",
              "  <thead>\n",
              "    <tr style=\"text-align: right;\">\n",
              "      <th></th>\n",
              "      <th>0</th>\n",
              "    </tr>\n",
              "  </thead>\n",
              "  <tbody>\n",
              "    <tr>\n",
              "      <th>patient</th>\n",
              "      <td>int64</td>\n",
              "    </tr>\n",
              "    <tr>\n",
              "      <th>pressure</th>\n",
              "      <td>int64</td>\n",
              "    </tr>\n",
              "    <tr>\n",
              "      <th>resistance</th>\n",
              "      <td>int64</td>\n",
              "    </tr>\n",
              "    <tr>\n",
              "      <th>drug</th>\n",
              "      <td>object</td>\n",
              "    </tr>\n",
              "  </tbody>\n",
              "</table>\n",
              "</div><br><label><b>dtype:</b> object</label>"
            ]
          },
          "metadata": {},
          "execution_count": 170
        }
      ]
    },
    {
      "cell_type": "code",
      "source": [
        "# убедимся что нет пустых данных\n",
        "df.isna().sum()"
      ],
      "metadata": {
        "colab": {
          "base_uri": "https://localhost:8080/",
          "height": 209
        },
        "id": "89rxQcTHk8LO",
        "outputId": "f56ba675-ca73-4783-a08b-0333352a2a70"
      },
      "execution_count": 171,
      "outputs": [
        {
          "output_type": "execute_result",
          "data": {
            "text/plain": [
              "patient       0\n",
              "pressure      0\n",
              "resistance    0\n",
              "drug          0\n",
              "dtype: int64"
            ],
            "text/html": [
              "<div>\n",
              "<style scoped>\n",
              "    .dataframe tbody tr th:only-of-type {\n",
              "        vertical-align: middle;\n",
              "    }\n",
              "\n",
              "    .dataframe tbody tr th {\n",
              "        vertical-align: top;\n",
              "    }\n",
              "\n",
              "    .dataframe thead th {\n",
              "        text-align: right;\n",
              "    }\n",
              "</style>\n",
              "<table border=\"1\" class=\"dataframe\">\n",
              "  <thead>\n",
              "    <tr style=\"text-align: right;\">\n",
              "      <th></th>\n",
              "      <th>0</th>\n",
              "    </tr>\n",
              "  </thead>\n",
              "  <tbody>\n",
              "    <tr>\n",
              "      <th>patient</th>\n",
              "      <td>0</td>\n",
              "    </tr>\n",
              "    <tr>\n",
              "      <th>pressure</th>\n",
              "      <td>0</td>\n",
              "    </tr>\n",
              "    <tr>\n",
              "      <th>resistance</th>\n",
              "      <td>0</td>\n",
              "    </tr>\n",
              "    <tr>\n",
              "      <th>drug</th>\n",
              "      <td>0</td>\n",
              "    </tr>\n",
              "  </tbody>\n",
              "</table>\n",
              "</div><br><label><b>dtype:</b> int64</label>"
            ]
          },
          "metadata": {},
          "execution_count": 171
        }
      ]
    },
    {
      "cell_type": "code",
      "source": [
        "print_bold(\"Количество наблюдений по препарату:\")\n",
        "df['drug'].value_counts()"
      ],
      "metadata": {
        "colab": {
          "base_uri": "https://localhost:8080/",
          "height": 195
        },
        "id": "xgDFLbFbkKep",
        "outputId": "15ec6b2a-def8-4b25-9a6d-1b1d93372980"
      },
      "execution_count": 172,
      "outputs": [
        {
          "output_type": "stream",
          "name": "stdout",
          "text": [
            "\u001b[1m Количество наблюдений по препарату: \u001b[0m\n"
          ]
        },
        {
          "output_type": "execute_result",
          "data": {
            "text/plain": [
              "drug\n",
              "Галотан    123\n",
              "Морфин     117\n",
              "Name: count, dtype: int64"
            ],
            "text/html": [
              "<div>\n",
              "<style scoped>\n",
              "    .dataframe tbody tr th:only-of-type {\n",
              "        vertical-align: middle;\n",
              "    }\n",
              "\n",
              "    .dataframe tbody tr th {\n",
              "        vertical-align: top;\n",
              "    }\n",
              "\n",
              "    .dataframe thead th {\n",
              "        text-align: right;\n",
              "    }\n",
              "</style>\n",
              "<table border=\"1\" class=\"dataframe\">\n",
              "  <thead>\n",
              "    <tr style=\"text-align: right;\">\n",
              "      <th></th>\n",
              "      <th>count</th>\n",
              "    </tr>\n",
              "    <tr>\n",
              "      <th>drug</th>\n",
              "      <th></th>\n",
              "    </tr>\n",
              "  </thead>\n",
              "  <tbody>\n",
              "    <tr>\n",
              "      <th>Галотан</th>\n",
              "      <td>123</td>\n",
              "    </tr>\n",
              "    <tr>\n",
              "      <th>Морфин</th>\n",
              "      <td>117</td>\n",
              "    </tr>\n",
              "  </tbody>\n",
              "</table>\n",
              "</div><br><label><b>dtype:</b> int64</label>"
            ]
          },
          "metadata": {},
          "execution_count": 172
        }
      ]
    },
    {
      "cell_type": "code",
      "source": [
        "# сделаю 2 датафрейма для разных препаратов для удобства\n",
        "halothane = df[df[\"drug\"] == \"Галотан\"]\n",
        "morphine = df[df[\"drug\"] == \"Морфин\"]"
      ],
      "metadata": {
        "id": "S4yqmWQG9mkx"
      },
      "execution_count": 173,
      "outputs": []
    },
    {
      "cell_type": "markdown",
      "source": [
        "# Описательный анализ данных"
      ],
      "metadata": {
        "id": "88Q-EUlQirO0"
      }
    },
    {
      "cell_type": "code",
      "source": [
        "def stats_df(data : pd.DataFrame, column : str) -> pd.DataFrame:\n",
        "    result = {\n",
        "        \"Среднее\": data[column].mean(),\n",
        "        \"Стандартное отклонение\": data[column].std(),\n",
        "        \"Дисперсия\": data[column].var(),\n",
        "        \"Медиана\": data[column].median(),\n",
        "        \"Мода\": data[column].mode(),\n",
        "        \"Первый квартиль\": data[column].quantile(0.25),\n",
        "        \"Третий квартиль\": data[column].quantile(0.75)\n",
        "    }\n",
        "    return pd.DataFrame(result).T.round(2)\n",
        "\n",
        "def basic_stats(data : pd.DataFrame, drug : str):\n",
        "    if (drug == \"halothane\"):\n",
        "        print_bold(\"Описательная статистика для Галотана:\")\n",
        "    else:\n",
        "        print_bold(\"Описательная статистика для Морфина:\")\n",
        "\n",
        "    print()\n",
        "    print()\n",
        "\n",
        "    print_bold(\"Среднее артериальное давление\")\n",
        "    print(stats_df(data, \"pressure\"))\n",
        "\n",
        "    plt.figure(figsize=(4, 2))\n",
        "    sns.boxplot(x=data[\"pressure\"])\n",
        "    plt.title(\"\")\n",
        "    plt.xlabel(\"\")\n",
        "    plt.show()\n",
        "\n",
        "    print()\n",
        "    print()\n",
        "\n",
        "    print_bold(\"Общее периферическое сосудистое сопротивление\")\n",
        "    print(stats_df(data, \"resistance\"))\n",
        "\n",
        "    plt.figure(figsize=(4, 2))\n",
        "    sns.boxplot(x=data[\"resistance\"])\n",
        "    plt.title(\"\")\n",
        "    plt.xlabel(\"\")\n",
        "    plt.show()"
      ],
      "metadata": {
        "id": "Paewc0YdkbqQ"
      },
      "execution_count": 174,
      "outputs": []
    },
    {
      "cell_type": "code",
      "source": [
        "# здесь в давлении две моды, поэтому два столбца\n",
        "basic_stats(halothane, \"halothane\")"
      ],
      "metadata": {
        "colab": {
          "base_uri": "https://localhost:8080/",
          "height": 810
        },
        "id": "KZ9AgnJInPjN",
        "outputId": "ccb6faa8-3621-491a-da40-9c8039e9d793"
      },
      "execution_count": 175,
      "outputs": [
        {
          "output_type": "stream",
          "name": "stdout",
          "text": [
            "\u001b[1m Описательная статистика для Галотана: \u001b[0m\n",
            "\n",
            "\n",
            "\u001b[1m Среднее артериальное давление \u001b[0m\n",
            "                            0      1\n",
            "Среднее                 79.24  79.24\n",
            "Стандартное отклонение   6.50   6.50\n",
            "Дисперсия               42.31  42.31\n",
            "Медиана                 80.00  80.00\n",
            "Мода                    73.00  84.00\n",
            "Первый квартиль         74.00  74.00\n",
            "Третий квартиль         84.00  84.00\n"
          ]
        },
        {
          "output_type": "display_data",
          "data": {
            "text/plain": [
              "<Figure size 400x200 with 1 Axes>"
            ],
            "image/png": "[encoded data removed]"
          },
          "metadata": {}
        },
        {
          "output_type": "stream",
          "name": "stdout",
          "text": [
            "\n",
            "\n",
            "\u001b[1m Общее периферическое сосудистое сопротивление \u001b[0m\n",
            "                                0\n",
            "Среднее                   2151.22\n",
            "Стандартное отклонение     336.41\n",
            "Дисперсия               113174.73\n",
            "Медиана                   2200.00\n",
            "Мода                      2200.00\n",
            "Первый квартиль           1900.00\n",
            "Третий квартиль           2400.00\n"
          ]
        },
        {
          "output_type": "display_data",
          "data": {
            "text/plain": [
              "<Figure size 400x200 with 1 Axes>"
            ],
            "image/png": "[encoded data removed]"
          },
          "metadata": {}
        }
      ]
    },
    {
      "cell_type": "code",
      "source": [
        "basic_stats(morphine, \"morphine\")"
      ],
      "metadata": {
        "colab": {
          "base_uri": "https://localhost:8080/",
          "height": 810
        },
        "id": "g2Zyhqk2nPln",
        "outputId": "ac13933b-293c-4b32-dfdd-5916da1f7065"
      },
      "execution_count": 176,
      "outputs": [
        {
          "output_type": "stream",
          "name": "stdout",
          "text": [
            "\u001b[1m Описательная статистика для Морфина: \u001b[0m\n",
            "\n",
            "\n",
            "\u001b[1m Среднее артериальное давление \u001b[0m\n",
            "                             0\n",
            "Среднее                  94.11\n",
            "Стандартное отклонение    5.39\n",
            "Дисперсия                29.10\n",
            "Медиана                  94.00\n",
            "Мода                    100.00\n",
            "Первый квартиль          90.00\n",
            "Третий квартиль          99.00\n"
          ]
        },
        {
          "output_type": "display_data",
          "data": {
            "text/plain": [
              "<Figure size 400x200 with 1 Axes>"
            ],
            "image/png": "[encoded data removed]"
          },
          "metadata": {}
        },
        {
          "output_type": "stream",
          "name": "stdout",
          "text": [
            "\n",
            "\n",
            "\u001b[1m Общее периферическое сосудистое сопротивление \u001b[0m\n",
            "                                0\n",
            "Среднее                   2730.77\n",
            "Стандартное отклонение     326.02\n",
            "Дисперсия               106286.47\n",
            "Медиана                   2800.00\n",
            "Мода                      2400.00\n",
            "Первый квартиль           2400.00\n",
            "Третий квартиль           3000.00\n"
          ]
        },
        {
          "output_type": "display_data",
          "data": {
            "text/plain": [
              "<Figure size 400x200 with 1 Axes>"
            ],
            "image/png": "[encoded data removed]"
          },
          "metadata": {}
        }
      ]
    },
    {
      "cell_type": "markdown",
      "source": [
        "Видно, что при морфиновой анестезие показатели повыше. Вот и поймем далее в работе, значимо ли они выше или нет"
      ],
      "metadata": {
        "id": "oTe8ILZuQ3J4"
      }
    },
    {
      "cell_type": "markdown",
      "source": [
        "# Проверка нормальности распределения"
      ],
      "metadata": {
        "id": "Ucpdp5Sjirl2"
      }
    },
    {
      "cell_type": "markdown",
      "source": [
        "Для начала просто посмотрим на распределения"
      ],
      "metadata": {
        "id": "ltUH_fGH0AA_"
      }
    },
    {
      "cell_type": "code",
      "source": [
        "fig, axes = plt.subplots(2, 2, figsize=(9, 9))\n",
        "\n",
        "sns.histplot(halothane[\"pressure\"], kde=True, ax=axes[0,0], color=\"skyblue\", label=\"Галотан\")\n",
        "axes[0,0].set_title(\"Артериальное давление (Галотан)\")\n",
        "axes[0,0].set_xlabel(\"давление\")\n",
        "axes[0,0].set_ylabel(\"\")\n",
        "axes[0,0].legend()\n",
        "\n",
        "sns.histplot(morphine[\"pressure\"], kde=True, ax=axes[0,1], color=\"skyblue\", label=\"Морфин\")\n",
        "axes[0,1].set_title(\"Артериальное давление (Морфин)\")\n",
        "axes[0,1].set_xlabel(\"давление\")\n",
        "axes[0,1].set_ylabel(\"\")\n",
        "axes[0,1].legend()\n",
        "\n",
        "sns.histplot(halothane[\"resistance\"], kde=True, ax=axes[1,0], color=\"orange\", label=\"Галотан\")\n",
        "axes[1,0].set_title(\"Сосудистое сопротивление (Галотан)\")\n",
        "axes[1,0].set_xlabel(\"сопротивление\")\n",
        "axes[1,0].set_ylabel(\"\")\n",
        "axes[1,0].legend()\n",
        "\n",
        "sns.histplot(morphine[\"resistance\"], kde=True, ax=axes[1,1], color=\"orange\", label=\"Морфин\")\n",
        "axes[1,1].set_title(\"Сосудистое сопротивление (Морфин)\")\n",
        "axes[1,1].set_xlabel(\"сопротивление\")\n",
        "axes[1,1].set_ylabel(\"\")\n",
        "axes[1,1].legend()\n",
        "\n",
        "plt.tight_layout(pad=3.0)\n",
        "plt.show()"
      ],
      "metadata": {
        "colab": {
          "base_uri": "https://localhost:8080/",
          "height": 853
        },
        "id": "KMBC4eNzm7zV",
        "outputId": "c2fcb3f1-dd9f-47b6-a9c9-0576a67a0300"
      },
      "execution_count": 177,
      "outputs": [
        {
          "output_type": "display_data",
          "data": {
            "text/plain": [
              "<Figure size 900x900 with 4 Axes>"
            ],
            "image/png": "[encoded data removed]"
          },
          "metadata": {}
        }
      ]
    },
    {
      "cell_type": "markdown",
      "source": [
        "По гистограммам кажется, что нормальных распределений тут нет, а самое близкое к нормальному - у артериального давления для галотана"
      ],
      "metadata": {
        "id": "7ebeJ2135rVL"
      }
    },
    {
      "cell_type": "markdown",
      "source": [
        "Теперь используем критерий Шапиро-Уилка и критерий Лиллиефорса для проверки нормальности"
      ],
      "metadata": {
        "id": "4A5uwPxi03xW"
      }
    },
    {
      "cell_type": "code",
      "source": [
        "def check_normality(data : pd.DataFrame, drug : str, parametr : str, parametr_name : str):\n",
        "    shapiro_stat, shapiro_p_value = shapiro(data[parametr])\n",
        "    lilliefors_stat, lilliefors_p_value = lilliefors(data[parametr], dist='norm')\n",
        "    print_bold(f\"{parametr_name} для {drug}:\")\n",
        "    print(f\"    Количество наблюдений: {data[parametr].count()}\")\n",
        "    print(f\"    p_value Шапиро-Уилк: {round(shapiro_p_value, 3)}\")\n",
        "    print(f\"    p_value Лиллиефорс: {round(lilliefors_p_value, 3)}\")\n",
        "\n",
        "check_normality(halothane, \"галотана\", \"pressure\", \"Артериальное давление\")\n",
        "print()\n",
        "check_normality(morphine, \"морфина\", \"pressure\", \"Артериальное давление\")\n",
        "print()\n",
        "check_normality(halothane, \"галотана\", \"resistance\", \"Сосудистое сопротивление\")\n",
        "print()\n",
        "check_normality(morphine, \"морфина\", \"resistance\", \"Сосудистое сопротивление\")"
      ],
      "metadata": {
        "colab": {
          "base_uri": "https://localhost:8080/"
        },
        "id": "DX7QOL-w0351",
        "outputId": "50335b6a-4814-4cd5-a308-6fe8c9a4300b"
      },
      "execution_count": 178,
      "outputs": [
        {
          "output_type": "stream",
          "name": "stdout",
          "text": [
            "\u001b[1m Артериальное давление для галотана: \u001b[0m\n",
            "    Количество наблюдений: 123\n",
            "    p_value Шапиро-Уилк: 0.009\n",
            "    p_value Лиллиефорс: 0.005\n",
            "\n",
            "\u001b[1m Артериальное давление для морфина: \u001b[0m\n",
            "    Количество наблюдений: 117\n",
            "    p_value Шапиро-Уилк: 0.001\n",
            "    p_value Лиллиефорс: 0.012\n",
            "\n",
            "\u001b[1m Сосудистое сопротивление для галотана: \u001b[0m\n",
            "    Количество наблюдений: 123\n",
            "    p_value Шапиро-Уилк: 0.001\n",
            "    p_value Лиллиефорс: 0.065\n",
            "\n",
            "\u001b[1m Сосудистое сопротивление для морфина: \u001b[0m\n",
            "    Количество наблюдений: 117\n",
            "    p_value Шапиро-Уилк: 0.0\n",
            "    p_value Лиллиефорс: 0.001\n"
          ]
        }
      ]
    },
    {
      "cell_type": "markdown",
      "source": [
        "**Нулевая гипотеза:**\n",
        "\n",
        "    Данные в группе распределены нормально\n",
        "\n",
        "**Альтернативная гипотеза:**\n",
        "\n",
        "    Данные в группе не имеют нормального распределения\n",
        "\n",
        "**Уровень значимости - 0.05**\n",
        "\n",
        "**Результаты:**\n",
        "\n",
        "*   Артериальное давление для галотана:\n",
        "\n",
        "    Отвергаем нулевую гипотезу по обоим тестам: данные не имеют нормального распределения\n",
        "\n",
        "*   Артериальное давление для морфина:\n",
        "\n",
        "    Отвергаем нулевую гипотезу по обоим тестам: данные не имеют нормального распределения\n",
        "\n",
        "*   Сосудистое сопротивление для галотана:\n",
        "\n",
        "    Отвергаем нулевую гипотезу по тесту Шапиро-Уилка, но принимаем по Лиллиефорсу. Примем за результат тест Лиллиефорса, так как Шапиро-Уилк больше подходит для выборок меньшего размера. Итог: распределение можно считать нормальным\n",
        "\n",
        "*   Сосудистое сопротивление для морфина:\n",
        "\n",
        "    Отвергаем нулевую гипотезу по обоим тестам: данные не имеют нормального распределения"
      ],
      "metadata": {
        "id": "plVLxBE3BU_J"
      }
    },
    {
      "cell_type": "markdown",
      "source": [
        "# Проверка основной гипотезы о различии показателей"
      ],
      "metadata": {
        "id": "UMZ_04Hvzfrh"
      }
    },
    {
      "cell_type": "markdown",
      "source": [
        "В прошлом блоке мы поняли, что 3 из 4 наборов данных не имеют нормального распределения. Также наши выборки независимы (разным пациентам делали разную анестезию). Поэтому будем использовать непараметрический **тест Манна-Уитни**"
      ],
      "metadata": {
        "id": "iCK2tBXxFnoF"
      }
    },
    {
      "cell_type": "markdown",
      "source": [
        "**Нулевая гипотеза:**\n",
        "\n",
        "    Распределения давления (сопротивления) в группах галотана и морфина одинаковы\n",
        "\n",
        "**Альтернативная гипотеза:**\n",
        "\n",
        "    Распределения давления (сопротивления) в группах галотана и морфина различны\n",
        "\n",
        "**Уровень значимости - 0.05**"
      ],
      "metadata": {
        "id": "3k5g8DoIFMFZ"
      }
    },
    {
      "cell_type": "code",
      "source": [
        "def check_similarity(data_1 : pd.DataFrame, data_2 : pd.DataFrame, parametr : str, parametr_name : str):\n",
        "    U, p_value = mannwhitneyu(data_1[parametr], data_2[parametr], alternative='two-sided')\n",
        "    print_bold(f\"{parametr_name}:\")\n",
        "    print(f\"    U: {U}\")\n",
        "    print(f\"    p_value: {round(p_value, 5)}\")\n",
        "\n",
        "check_similarity(halothane, morphine, \"pressure\", \"Артериальное давление\")\n",
        "print()\n",
        "check_similarity(halothane, morphine, \"resistance\", \"Сосудистое сопротивление\")"
      ],
      "metadata": {
        "colab": {
          "base_uri": "https://localhost:8080/"
        },
        "id": "OQjN7n1Jzrnz",
        "outputId": "cd76c6d9-3dc5-433c-b199-73337a87ae59"
      },
      "execution_count": 179,
      "outputs": [
        {
          "output_type": "stream",
          "name": "stdout",
          "text": [
            "\u001b[1m Артериальное давление: \u001b[0m\n",
            "    U: 423.5\n",
            "    p_value: 0.0\n",
            "\n",
            "\u001b[1m Сосудистое сопротивление: \u001b[0m\n",
            "    U: 1685.0\n",
            "    p_value: 0.0\n"
          ]
        }
      ]
    },
    {
      "cell_type": "markdown",
      "source": [
        "Нулевая гипотеза принимается"
      ],
      "metadata": {
        "id": "HYE3W63RNyz2"
      }
    },
    {
      "cell_type": "markdown",
      "source": [
        "**Вывод:**\n",
        "\n",
        "И артериальное давление, и сосудистое сопротивление демонстрируют статистически значимые различия, то есть между галотановой и морфиновой анестезией действительно есть разница"
      ],
      "metadata": {
        "id": "pbBPfOybMw9o"
      }
    },
    {
      "cell_type": "markdown",
      "source": [
        "Наконец, построим boxplots для наших данных, чтобы наглядно увидеть различие исследуемых параметров:"
      ],
      "metadata": {
        "id": "D-12fPfZOSK7"
      }
    },
    {
      "cell_type": "code",
      "source": [
        "fig, axes = plt.subplots(2, 1, figsize=(10, 10))\n",
        "\n",
        "sns.boxplot(ax=axes[0], x=\"drug\", y=\"pressure\", hue=\"drug\", data=df, palette=[\"skyblue\", \"lightgreen\"], legend=False)\n",
        "axes[0].set_title(\"Артериальное давление\")\n",
        "axes[0].set_xlabel(\"\")\n",
        "axes[0].set_ylabel(\"\")\n",
        "\n",
        "sns.boxplot(ax=axes[1], x=\"drug\", y=\"resistance\", hue=\"drug\", data=df, palette=[\"skyblue\", \"lightgreen\"], legend=False)\n",
        "axes[1].set_title(\"Сосудистое сопротивление\")\n",
        "axes[1].set_xlabel(\"\")\n",
        "axes[1].set_ylabel(\"\")\n",
        "\n",
        "plt.tight_layout(pad=3.0)\n",
        "plt.show()"
      ],
      "metadata": {
        "colab": {
          "base_uri": "https://localhost:8080/",
          "height": 953
        },
        "id": "TLvrMJhVObPD",
        "outputId": "d36c4353-ba2b-4fd0-f42a-e8bd979f309f"
      },
      "execution_count": 180,
      "outputs": [
        {
          "output_type": "display_data",
          "data": {
            "text/plain": [
              "<Figure size 1000x1000 with 2 Axes>"
            ],
            "image/png": "[encoded data removed]"
          },
          "metadata": {}
        }
      ]
    }
  ]
}